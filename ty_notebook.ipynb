{
 "cells": [
  {
   "cell_type": "code",
   "execution_count": null,
   "id": "eb20050e",
   "metadata": {},
   "outputs": [
    {
     "name": "stdout",
     "output_type": "stream",
     "text": [
      "Gathering player lookup table. This may take a moment.\n"
     ]
    }
   ],
   "source": [
    "from datetime import date\n",
    "import pandas as pd\n",
    "from pybaseball import playerid_lookup, statcast_batter\n",
    "\n",
    "def get_player_id(last, first):\n",
    "    df = playerid_lookup(last, first)\n",
    "    if df.empty:\n",
    "        raise ValueError(\"Player not found.\")\n",
    "    return int(df.iloc[0][\"key_mlbam\"])\n",
    "\n",
    "def batter_statcast_by_park(mlbam_id: int, years=(2021, 2022)) -> pd.DataFrame:\n",
    "    # Pull pitch-by-pitch Statcast for each year and stack\n",
    "    frames = []\n",
    "    for y in years:\n",
    "        # Wide date window safely covers regular + postseason\n",
    "        frames.append(statcast_batter(f\"{y}-01-01\", f\"{y}-12-31\", mlbam_id))\n",
    "    data = pd.concat(frames, ignore_index=True)\n",
    "\n",
    "    # Prefer venue name if present; otherwise fall back to home_team as a proxy for park\n",
    "    venue_col = \"venue_name\" if \"venue_name\" in data.columns else \"home_team\"\n",
    "    data[\"venue\"] = data[venue_col]\n",
    "\n",
    "    # Columns for expected stats (names used by Baseball Savant exports)\n",
    "    xwoba_col = \"estimated_woba_using_speedangle\"\n",
    "    xslg_col  = \"estimated_slg_using_speedangle\"\n",
    "    xba_col   = \"estimated_ba_using_speedangle\"\n",
    "\n",
    "    # Keep only rows where expected stats exist (i.e., batted balls)\n",
    "    keep_cols = [\"game_date\", \"home_team\", \"away_team\", \"venue\", xwoba_col, xslg_col, xba_col, \"player_name\"]\n",
    "    have_cols = [c for c in keep_cols if c in data.columns]\n",
    "    bb = data[have_cols].dropna(subset=[c for c in [xwoba_col, xslg_col] if c in have_cols])\n",
    "\n",
    "    # Add year for easy filtering\n",
    "    bb[\"year\"] = pd.to_datetime(bb[\"game_date\"]).dt.year\n",
    "\n",
    "    # Aggregate by year × venue\n",
    "    agg = (\n",
    "        bb.groupby([\"year\", \"venue\"])\n",
    "          .agg(\n",
    "              PA=(\"game_date\", \"count\"),                     # number of batted balls in this split\n",
    "              xwOBA_mean=(xwoba_col, \"mean\"),\n",
    "              xSLG_mean=(xslg_col, \"mean\"),\n",
    "              xBA_mean =(xba_col, \"mean\") if xba_col in bb.columns else (\"game_date\", \"size\")\n",
    "          )\n",
    "          .reset_index()\n",
    "          .sort_values([\"year\", \"PA\"], ascending=[True, False])\n",
    "    )\n",
    "    # Optional: round for readability\n",
    "    for col in [\"xwOBA_mean\", \"xSLG_mean\", \"xBA_mean\"]:\n",
    "        if col in agg.columns:\n",
    "            agg[col] = agg[col].round(3)\n",
    "    return agg\n",
    "\n",
    "# ---- Example: Mike Trout 2021–2022 ----\n",
    "mlbam = get_player_id(\"trout\", \"mike\")\n",
    "by_park = batter_statcast_by_park(mlbam, years=(2021, 2022))\n",
    "print(by_park.head(12))\n"
   ]
  }
 ],
 "metadata": {
  "kernelspec": {
   "display_name": "Python 3",
   "language": "python",
   "name": "python3"
  },
  "language_info": {
   "codemirror_mode": {
    "name": "ipython",
    "version": 3
   },
   "file_extension": ".py",
   "mimetype": "text/x-python",
   "name": "python",
   "nbconvert_exporter": "python",
   "pygments_lexer": "ipython3",
   "version": "3.13.1"
  }
 },
 "nbformat": 4,
 "nbformat_minor": 5
}
